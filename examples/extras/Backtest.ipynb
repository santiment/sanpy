{
 "cells": [
  {
   "cell_type": "code",
   "execution_count": 21,
   "metadata": {},
   "outputs": [],
   "source": [
    "import pandas as pd\n",
    "from san.extras.backtest import Backtest"
   ]
  },
  {
   "cell_type": "markdown",
   "metadata": {},
   "source": [
    "# What is Backtest\n",
    "\n",
    "Backtest module allows to calculate portfolio returns using the series data with portfolio shares.\n",
    "The backtest can be performed in the following ways:\n",
    " - Calculate net returns based only on the changes of the assets' prices and their shares in the portfolio.\n",
    " - Build the portfolio model which accepts initial investment value and takes the impact of transaction fees into account.\n",
    "\n",
    "Backtest is designed to work together with Strategy or Strategy-inherited classes, some components may be provided from the Strategy-based entity.\n",
    "\n",
    "# Key components\n",
    "\n",
    "## Calculate the net returns\n",
    "\n",
    "* What is necessary to provide:\n",
    "    - the portfolio dataframe \n",
    "    - the assets' prices\n",
    "\n",
    "* Description\n",
    "The net returns dataframe contains the step-by-step returns of the portfolio.\n",
    "\n",
    "## Calculate the portfolio price\n",
    "\n",
    "* What is necessary to provide\n",
    "    - the net returns dataframe (or the required data listed above)\n",
    "    - transaction fees\n",
    "    - transactions log\n",
    "\n",
    "* Description\n",
    "The net returns calculation will be launched automatically if net returns data (or some necessary part of it) is missing. \n",
    "The function builds a realistic model of the portfolio price.\n",
    "The model accepts the initial investment and tracks the influence of trade fees.\n",
    "The portfolio price data contains step-by-step returns and performance of the portfolio price as well.\n",
    "\n",
    "## Portfolio\n",
    "Porfolio dataframe should contain the information of assets' shares in portfolio for each date. The portfolio dataframe can be calculated with the help of Strategy or Strategy-inherited class.\n",
    "\n",
    "## Trades log\n",
    "Trades log is a dataframe which contains the portfolio trades information.\n",
    "Together with fees it is requred to count the impact of transaction fees on the portfolio price. The trades log dataframe contains information for each trade in a single row, so the row indexed with the date at which the transaction was performed is a minimal required information. \n",
    "\n",
    "Trades log may contain it's own information of the transaction fee recorded in the 'fee' column of the trades dataframe. In that case the fees data provided in the Backtest entity will be ignored for this particular trade. For all other trades (with missing value in the 'fee' column) the entity's fees data is taken. \n",
    "\n",
    "## Fees\n",
    "Fees is the dataframe containing the transaction fees for each point of time. Median or average fees metrics can be provided there.\n",
    "\n",
    "## Prices\n",
    "Prices should be provided as the Prices object. It contains the common and reserve assets' price data."
   ]
  },
  {
   "cell_type": "markdown",
   "metadata": {},
   "source": [
    "## Prepare the data"
   ]
  },
  {
   "cell_type": "code",
   "execution_count": 23,
   "metadata": {},
   "outputs": [],
   "source": [
    "START_DT = \"2020-01-01\""
   ]
  },
  {
   "cell_type": "code",
   "execution_count": 24,
   "metadata": {},
   "outputs": [
    {
     "data": {
      "text/html": [
       "<div>\n",
       "<style scoped>\n",
       "    .dataframe tbody tr th:only-of-type {\n",
       "        vertical-align: middle;\n",
       "    }\n",
       "\n",
       "    .dataframe tbody tr th {\n",
       "        vertical-align: top;\n",
       "    }\n",
       "\n",
       "    .dataframe thead th {\n",
       "        text-align: right;\n",
       "    }\n",
       "</style>\n",
       "<table border=\"1\" class=\"dataframe\">\n",
       "  <thead>\n",
       "    <tr style=\"text-align: right;\">\n",
       "      <th></th>\n",
       "      <th>asset</th>\n",
       "      <th>share</th>\n",
       "    </tr>\n",
       "    <tr>\n",
       "      <th>dt</th>\n",
       "      <th></th>\n",
       "      <th></th>\n",
       "    </tr>\n",
       "  </thead>\n",
       "  <tbody>\n",
       "    <tr>\n",
       "      <th>2020-01-01</th>\n",
       "      <td>eth</td>\n",
       "      <td>0.50</td>\n",
       "    </tr>\n",
       "    <tr>\n",
       "      <th>2020-01-01</th>\n",
       "      <td>uni</td>\n",
       "      <td>0.50</td>\n",
       "    </tr>\n",
       "    <tr>\n",
       "      <th>2020-01-02</th>\n",
       "      <td>eth</td>\n",
       "      <td>0.60</td>\n",
       "    </tr>\n",
       "    <tr>\n",
       "      <th>2020-01-02</th>\n",
       "      <td>uni</td>\n",
       "      <td>0.40</td>\n",
       "    </tr>\n",
       "    <tr>\n",
       "      <th>2020-01-03</th>\n",
       "      <td>eth</td>\n",
       "      <td>0.70</td>\n",
       "    </tr>\n",
       "    <tr>\n",
       "      <th>2020-01-03</th>\n",
       "      <td>uni</td>\n",
       "      <td>0.30</td>\n",
       "    </tr>\n",
       "    <tr>\n",
       "      <th>2020-01-04</th>\n",
       "      <td>eth</td>\n",
       "      <td>0.50</td>\n",
       "    </tr>\n",
       "    <tr>\n",
       "      <th>2020-01-04</th>\n",
       "      <td>uni</td>\n",
       "      <td>0.25</td>\n",
       "    </tr>\n",
       "    <tr>\n",
       "      <th>2020-01-04</th>\n",
       "      <td>maker</td>\n",
       "      <td>0.25</td>\n",
       "    </tr>\n",
       "    <tr>\n",
       "      <th>2020-01-05</th>\n",
       "      <td>eth</td>\n",
       "      <td>0.50</td>\n",
       "    </tr>\n",
       "    <tr>\n",
       "      <th>2020-01-05</th>\n",
       "      <td>uni</td>\n",
       "      <td>0.25</td>\n",
       "    </tr>\n",
       "    <tr>\n",
       "      <th>2020-01-05</th>\n",
       "      <td>maker</td>\n",
       "      <td>0.25</td>\n",
       "    </tr>\n",
       "  </tbody>\n",
       "</table>\n",
       "</div>"
      ],
      "text/plain": [
       "            asset  share\n",
       "dt                      \n",
       "2020-01-01    eth   0.50\n",
       "2020-01-01    uni   0.50\n",
       "2020-01-02    eth   0.60\n",
       "2020-01-02    uni   0.40\n",
       "2020-01-03    eth   0.70\n",
       "2020-01-03    uni   0.30\n",
       "2020-01-04    eth   0.50\n",
       "2020-01-04    uni   0.25\n",
       "2020-01-04  maker   0.25\n",
       "2020-01-05    eth   0.50\n",
       "2020-01-05    uni   0.25\n",
       "2020-01-05  maker   0.25"
      ]
     },
     "execution_count": 24,
     "metadata": {},
     "output_type": "execute_result"
    }
   ],
   "source": [
    "portfolio_df = pd.DataFrame(\n",
    "    {\n",
    "        \"dt\": [\n",
    "            \"2020-01-01\",\n",
    "            \"2020-01-01\",\n",
    "            \"2020-01-02\",\n",
    "            \"2020-01-02\",\n",
    "            \"2020-01-03\",\n",
    "            \"2020-01-03\",\n",
    "            \"2020-01-04\",\n",
    "            \"2020-01-04\",\n",
    "            \"2020-01-04\",\n",
    "            \"2020-01-05\",\n",
    "            \"2020-01-05\",\n",
    "            \"2020-01-05\",\n",
    "        ],\n",
    "        \"asset\": [\"eth\", \"uni\", \"eth\", \"uni\", \"eth\", \"uni\", \"eth\", \"uni\", \"maker\", \"eth\", \"uni\", \"maker\"],\n",
    "        \"share\": [0.5, 0.5, 0.6, 0.4, 0.7, 0.3, 0.5, 0.25, 0.25, 0.5, 0.25, 0.25],\n",
    "    }\n",
    ").set_index(\"dt\")\n",
    "portfolio_df.set_index(pd.to_datetime(portfolio_df.index), inplace=True)\n",
    "\n",
    "portfolio_df"
   ]
  },
  {
   "cell_type": "code",
   "execution_count": 25,
   "metadata": {},
   "outputs": [],
   "source": [
    "prices_df = pd.DataFrame(\n",
    "    {\n",
    "        \"dt\": [\n",
    "            \"2020-01-01\",\n",
    "            \"2020-01-01\",\n",
    "            \"2020-01-01\",\n",
    "            \"2020-01-02\",\n",
    "            \"2020-01-02\",\n",
    "            \"2020-01-02\",\n",
    "            \"2020-01-03\",\n",
    "            \"2020-01-03\",\n",
    "            \"2020-01-03\",\n",
    "            \"2020-01-04\",\n",
    "            \"2020-01-04\",\n",
    "            \"2020-01-04\",\n",
    "            \"2020-01-05\",\n",
    "            \"2020-01-05\",\n",
    "            \"2020-01-05\",\n",
    "        ],\n",
    "        \"asset\": [\n",
    "            \"eth\",\n",
    "            \"uni\",\n",
    "            \"maker\",\n",
    "        ]\n",
    "        * 5,\n",
    "        \"price\": [\n",
    "            1000,\n",
    "            100,\n",
    "            500,\n",
    "            1500,\n",
    "            100,\n",
    "            500,\n",
    "            1800,\n",
    "            80,\n",
    "            500,\n",
    "            2250,\n",
    "            100,\n",
    "            500,\n",
    "            2250,\n",
    "            100,\n",
    "            500,\n",
    "        ],\n",
    "    }\n",
    ").set_index(\"dt\")\n",
    "\n",
    "prices_df.set_index(pd.to_datetime(prices_df.index), inplace=True)"
   ]
  },
  {
   "cell_type": "code",
   "execution_count": 26,
   "metadata": {},
   "outputs": [],
   "source": [
    "fees_df = pd.DataFrame(\n",
    "    {\n",
    "        \"dt\": [\"2020-01-01\", \"2020-01-02\", \"2020-01-03\", \"2020-01-04\", \"2020-01-05\"],\n",
    "        \"value\": [5] * 5,\n",
    "    }\n",
    ").set_index(\"dt\")\n",
    "fees_df.set_index(pd.to_datetime(fees_df.index), inplace=True)"
   ]
  },
  {
   "cell_type": "code",
   "execution_count": 27,
   "metadata": {},
   "outputs": [],
   "source": [
    "trades_df = pd.DataFrame({\"dt\": [\"2020-01-04\"] * 5}).set_index(\"dt\")\n",
    "\n",
    "trades_df.set_index(pd.to_datetime(trades_df.index), inplace=True)"
   ]
  },
  {
   "cell_type": "markdown",
   "metadata": {},
   "source": [
    "## Create backtest instance"
   ]
  },
  {
   "cell_type": "code",
   "execution_count": 28,
   "metadata": {},
   "outputs": [],
   "source": [
    "backtest = Backtest(START_DT)"
   ]
  },
  {
   "cell_type": "code",
   "execution_count": 29,
   "metadata": {},
   "outputs": [],
   "source": [
    "backtest.add_portfolio(portfolio_df)\n",
    "backtest.prices.set(prices_df)\n",
    "backtest.add_fees(fees_df)\n",
    "backtest.add_trades(trades_df)"
   ]
  },
  {
   "cell_type": "code",
   "execution_count": 30,
   "metadata": {},
   "outputs": [],
   "source": [
    "backtest.build_portfolio_price(START_DT)"
   ]
  },
  {
   "cell_type": "code",
   "execution_count": 31,
   "metadata": {},
   "outputs": [
    {
     "data": {
      "text/html": [
       "<div>\n",
       "<style scoped>\n",
       "    .dataframe tbody tr th:only-of-type {\n",
       "        vertical-align: middle;\n",
       "    }\n",
       "\n",
       "    .dataframe tbody tr th {\n",
       "        vertical-align: top;\n",
       "    }\n",
       "\n",
       "    .dataframe thead th {\n",
       "        text-align: right;\n",
       "    }\n",
       "</style>\n",
       "<table border=\"1\" class=\"dataframe\">\n",
       "  <thead>\n",
       "    <tr style=\"text-align: right;\">\n",
       "      <th></th>\n",
       "      <th>value</th>\n",
       "    </tr>\n",
       "    <tr>\n",
       "      <th>dt</th>\n",
       "      <th></th>\n",
       "    </tr>\n",
       "  </thead>\n",
       "  <tbody>\n",
       "    <tr>\n",
       "      <th>2020-01-01</th>\n",
       "      <td>1.00</td>\n",
       "    </tr>\n",
       "    <tr>\n",
       "      <th>2020-01-02</th>\n",
       "      <td>1.25</td>\n",
       "    </tr>\n",
       "    <tr>\n",
       "      <th>2020-01-03</th>\n",
       "      <td>1.04</td>\n",
       "    </tr>\n",
       "    <tr>\n",
       "      <th>2020-01-04</th>\n",
       "      <td>1.25</td>\n",
       "    </tr>\n",
       "    <tr>\n",
       "      <th>2020-01-05</th>\n",
       "      <td>1.00</td>\n",
       "    </tr>\n",
       "  </tbody>\n",
       "</table>\n",
       "</div>"
      ],
      "text/plain": [
       "            value\n",
       "dt               \n",
       "2020-01-01   1.00\n",
       "2020-01-02   1.25\n",
       "2020-01-03   1.04\n",
       "2020-01-04   1.25\n",
       "2020-01-05   1.00"
      ]
     },
     "execution_count": 31,
     "metadata": {},
     "output_type": "execute_result"
    }
   ],
   "source": [
    "backtest.net_returns"
   ]
  },
  {
   "cell_type": "code",
   "execution_count": 36,
   "metadata": {},
   "outputs": [
    {
     "data": {
      "text/plain": [
       "<AxesSubplot:xlabel='dt'>"
      ]
     },
     "execution_count": 36,
     "metadata": {},
     "output_type": "execute_result"
    },
    {
     "data": {
      "image/png": "[encoded data removed]",
      "text/plain": [
       "<Figure size 432x288 with 1 Axes>"
      ]
     },
     "metadata": {
      "needs_background": "light"
     },
     "output_type": "display_data"
    }
   ],
   "source": [
    "backtest.portfolio_price[\"performance\"].plot()"
   ]
  },
  {
   "cell_type": "code",
   "execution_count": null,
   "metadata": {},
   "outputs": [],
   "source": []
  }
 ],
 "metadata": {
  "interpreter": {
   "hash": "916dbcbb3f70747c44a77c7bcd40155683ae19c65e1c03b4aa3499c5328201f1"
  },
  "kernelspec": {
   "display_name": "Python 3.8.10 64-bit",
   "name": "python3"
  },
  "language_info": {
   "codemirror_mode": {
    "name": "ipython",
    "version": 3
   },
   "file_extension": ".py",
   "mimetype": "text/x-python",
   "name": "python",
   "nbconvert_exporter": "python",
   "pygments_lexer": "ipython3",
   "version": "3.8.10"
  },
  "orig_nbformat": 4
 },
 "nbformat": 4,
 "nbformat_minor": 2
}
