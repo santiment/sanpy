{
 "cells": [
  {
   "cell_type": "code",
   "execution_count": 1,
   "metadata": {},
   "outputs": [
    {
     "name": "stderr",
     "output_type": "stream",
     "text": [
      "/home/alex/santiment/sanpy/san/__init__.py:31: UserWarning: The package sanpy is out of date. Your version is 0.8.5, the latest is 0.8.11.\n",
      "  warn(warning)\n"
     ]
    }
   ],
   "source": [
    "import datetime\n",
    "import itertools\n",
    "import pandas as pd\n",
    "\n",
    "from san.extras.strategy.strategy import Strategy"
   ]
  },
  {
   "cell_type": "markdown",
   "metadata": {},
   "source": [
    "# What is strategy\n",
    "\n",
    "Strategy is a tool that allows you to create and backtest trading strategies based on signals. That means that any change in the portfolio is triggired by a signal.\n",
    "\n",
    "# Key Components\n",
    "\n",
    "## Portfolio\n",
    "\n",
    "Portfolio is represented by assets and assets' shares in the portfolio on a particular date.\\\n",
    "Example:\\\n",
    "    - 2021-01-01: ethereum (80%), dai (20%)\\\n",
    "    - 2021-01-02: ethereum (50%), dai (50%)\n",
    "\n",
    "Given approach makes it possible not to consider amount of money you allocate in the portfolio.\n",
    "\n",
    "## Authorized Assets\n",
    "\n",
    "Authorized assets are assets that could be included in the portfolio on a given date. If asset is authorized on 2021-01-01 that does not mean that the asset must be included in the portfolio on 2021-01-01 i.e. it's share in the portfolio could be 0.\n",
    "\n",
    "There are 2 types of assets (and init_asset as a special case):\n",
    "* Common assets\\\n",
    "    Common assets are assets that are traded in the portfolio. Typically\n",
    "investor bets exactly on common assets. Common assets could be used for\n",
    "other purposes as well (like risk hedging, etc).\n",
    "\n",
    "* Reserve assets\\\n",
    "    Reserve assets are used in some strategies as assets you trade common\n",
    "assets to. Usually any stablecoin could be used as reserve asset. Once\n",
    "you sell one of common assets you might rebalance other assets in the\n",
    "portfolio or just keep funds safe for a next buy (rebalance) signal.\n",
    "\n",
    "* Init_asset\\\n",
    "    Init_asset is an asset investor owes before the stategy was initiated.\n",
    "\n",
    "## Signals\n",
    "\n",
    "Signal is an event that happens in a certain point in time. In general case the signal could be represented by a set of datetimes. A signal could correspond to a particular asset or to a few assets.\n",
    "\n",
    "Signals could be interpreted in a different ways. We interpret signals in a 3 different ways:\n",
    "\n",
    "1. Buy-signals \\\n",
    "    Buy-signal an instruction to buy a particluar asset. E.g. include a particular asset in the portfolio. In general case, increase asset's share in the portfolio.\n",
    "\n",
    "2. Sell-signals \\\n",
    "    Sell-signal an instruction to sell a particluar asset. E.g. exclude a particular asset from the portfolio. In general case, decrease asset's share in the portfolio.\n",
    "\n",
    "\n",
    "3. Rebalance-signals \\\n",
    "    Rebalance-signals leads to some changes in the portfolio structure. These changes may or may not lead to including an asset  or complete asset excluding from the portfolio.\n",
    "\n",
    "## Prices\n",
    "\n",
    "Prices are used to recompute assets' shares changes conditioned by price changes."
   ]
  },
  {
   "cell_type": "markdown",
   "metadata": {},
   "source": [
    "# Usage"
   ]
  },
  {
   "cell_type": "markdown",
   "metadata": {},
   "source": [
    "## Init Strategy"
   ]
  },
  {
   "cell_type": "code",
   "execution_count": 2,
   "metadata": {},
   "outputs": [],
   "source": [
    "index = Strategy(start_dt=\"2021-01-01\", init_asset=\"dai\")"
   ]
  },
  {
   "cell_type": "markdown",
   "metadata": {},
   "source": [
    "## Adding/removing assets"
   ]
  },
  {
   "cell_type": "code",
   "execution_count": 3,
   "metadata": {},
   "outputs": [
    {
     "data": {
      "text/html": [
       "<div>\n",
       "<style scoped>\n",
       "    .dataframe tbody tr th:only-of-type {\n",
       "        vertical-align: middle;\n",
       "    }\n",
       "\n",
       "    .dataframe tbody tr th {\n",
       "        vertical-align: top;\n",
       "    }\n",
       "\n",
       "    .dataframe thead th {\n",
       "        text-align: right;\n",
       "    }\n",
       "</style>\n",
       "<table border=\"1\" class=\"dataframe\">\n",
       "  <thead>\n",
       "    <tr style=\"text-align: right;\">\n",
       "      <th></th>\n",
       "      <th>asset</th>\n",
       "    </tr>\n",
       "    <tr>\n",
       "      <th>index</th>\n",
       "      <th></th>\n",
       "    </tr>\n",
       "  </thead>\n",
       "  <tbody>\n",
       "    <tr>\n",
       "      <th>2021-01-01</th>\n",
       "      <td>dai</td>\n",
       "    </tr>\n",
       "    <tr>\n",
       "      <th>2021-01-02</th>\n",
       "      <td>dai</td>\n",
       "    </tr>\n",
       "    <tr>\n",
       "      <th>2021-01-03</th>\n",
       "      <td>dai</td>\n",
       "    </tr>\n",
       "    <tr>\n",
       "      <th>2021-01-04</th>\n",
       "      <td>dai</td>\n",
       "    </tr>\n",
       "  </tbody>\n",
       "</table>\n",
       "</div>"
      ],
      "text/plain": [
       "           asset\n",
       "index           \n",
       "2021-01-01   dai\n",
       "2021-01-02   dai\n",
       "2021-01-03   dai\n",
       "2021-01-04   dai"
      ]
     },
     "execution_count": 3,
     "metadata": {},
     "output_type": "execute_result"
    }
   ],
   "source": [
    "# add reserve asset\n",
    "index.assets.add(assets={\"dai\": [\"2021-01-01\", \"2021-01-04\"]}, assets_type=\"r\")\n",
    "index.assets.reserve_assets"
   ]
  },
  {
   "cell_type": "code",
   "execution_count": 4,
   "metadata": {},
   "outputs": [
    {
     "data": {
      "text/html": [
       "<div>\n",
       "<style scoped>\n",
       "    .dataframe tbody tr th:only-of-type {\n",
       "        vertical-align: middle;\n",
       "    }\n",
       "\n",
       "    .dataframe tbody tr th {\n",
       "        vertical-align: top;\n",
       "    }\n",
       "\n",
       "    .dataframe thead th {\n",
       "        text-align: right;\n",
       "    }\n",
       "</style>\n",
       "<table border=\"1\" class=\"dataframe\">\n",
       "  <thead>\n",
       "    <tr style=\"text-align: right;\">\n",
       "      <th></th>\n",
       "      <th>asset</th>\n",
       "    </tr>\n",
       "    <tr>\n",
       "      <th>index</th>\n",
       "      <th></th>\n",
       "    </tr>\n",
       "  </thead>\n",
       "  <tbody>\n",
       "    <tr>\n",
       "      <th>2021-01-01</th>\n",
       "      <td>ethereum</td>\n",
       "    </tr>\n",
       "    <tr>\n",
       "      <th>2021-01-01</th>\n",
       "      <td>uniswap</td>\n",
       "    </tr>\n",
       "    <tr>\n",
       "      <th>2021-01-02</th>\n",
       "      <td>ethereum</td>\n",
       "    </tr>\n",
       "    <tr>\n",
       "      <th>2021-01-02</th>\n",
       "      <td>uniswap</td>\n",
       "    </tr>\n",
       "    <tr>\n",
       "      <th>2021-01-03</th>\n",
       "      <td>uniswap</td>\n",
       "    </tr>\n",
       "    <tr>\n",
       "      <th>2021-01-04</th>\n",
       "      <td>ethereum</td>\n",
       "    </tr>\n",
       "    <tr>\n",
       "      <th>2021-01-04</th>\n",
       "      <td>uniswap</td>\n",
       "    </tr>\n",
       "  </tbody>\n",
       "</table>\n",
       "</div>"
      ],
      "text/plain": [
       "               asset\n",
       "index               \n",
       "2021-01-01  ethereum\n",
       "2021-01-01   uniswap\n",
       "2021-01-02  ethereum\n",
       "2021-01-02   uniswap\n",
       "2021-01-03   uniswap\n",
       "2021-01-04  ethereum\n",
       "2021-01-04   uniswap"
      ]
     },
     "execution_count": 4,
     "metadata": {},
     "output_type": "execute_result"
    }
   ],
   "source": [
    "# add common assets\n",
    "index.assets.add({\"ethereum\": [\"2021-01-01\", \"2021-01-02\", \"2021-01-04\", \"2021-01-04\"], \"uniswap\": [\"2021-01-01\", \"2021-01-04\"]})\n",
    "index.assets.common_assets"
   ]
  },
  {
   "cell_type": "code",
   "execution_count": 5,
   "metadata": {},
   "outputs": [
    {
     "data": {
      "text/html": [
       "<div>\n",
       "<style scoped>\n",
       "    .dataframe tbody tr th:only-of-type {\n",
       "        vertical-align: middle;\n",
       "    }\n",
       "\n",
       "    .dataframe tbody tr th {\n",
       "        vertical-align: top;\n",
       "    }\n",
       "\n",
       "    .dataframe thead th {\n",
       "        text-align: right;\n",
       "    }\n",
       "</style>\n",
       "<table border=\"1\" class=\"dataframe\">\n",
       "  <thead>\n",
       "    <tr style=\"text-align: right;\">\n",
       "      <th></th>\n",
       "      <th>asset</th>\n",
       "    </tr>\n",
       "    <tr>\n",
       "      <th>index</th>\n",
       "      <th></th>\n",
       "    </tr>\n",
       "  </thead>\n",
       "  <tbody>\n",
       "    <tr>\n",
       "      <th>2021-01-01</th>\n",
       "      <td>ethereum</td>\n",
       "    </tr>\n",
       "    <tr>\n",
       "      <th>2021-01-01</th>\n",
       "      <td>uniswap</td>\n",
       "    </tr>\n",
       "    <tr>\n",
       "      <th>2021-01-02</th>\n",
       "      <td>ethereum</td>\n",
       "    </tr>\n",
       "    <tr>\n",
       "      <th>2021-01-02</th>\n",
       "      <td>uniswap</td>\n",
       "    </tr>\n",
       "    <tr>\n",
       "      <th>2021-01-04</th>\n",
       "      <td>ethereum</td>\n",
       "    </tr>\n",
       "  </tbody>\n",
       "</table>\n",
       "</div>"
      ],
      "text/plain": [
       "               asset\n",
       "index               \n",
       "2021-01-01  ethereum\n",
       "2021-01-01   uniswap\n",
       "2021-01-02  ethereum\n",
       "2021-01-02   uniswap\n",
       "2021-01-04  ethereum"
      ]
     },
     "execution_count": 5,
     "metadata": {},
     "output_type": "execute_result"
    }
   ],
   "source": [
    "# Remove uniswap for 2021-01-03 - 2021-01-05\n",
    "index.assets.remove({\"uniswap\": [\"2021-01-03\", \"2021-01-04\"]})\n",
    "index.assets.common_assets"
   ]
  },
  {
   "cell_type": "markdown",
   "metadata": {},
   "source": [
    "## Adding/removing signals"
   ]
  },
  {
   "cell_type": "code",
   "execution_count": 6,
   "metadata": {},
   "outputs": [],
   "source": [
    "buy_signals = pd.DataFrame(\n",
    "    {\"dt\": [\"2021-01-05\", \"2021-01-05\", \"2021-02-10\", \"2021-03-10\"], \"asset\": [\"ethereum\", \"uniswap\", \"ethereum\", \"uniswap\"]}\n",
    ")\n",
    "\n",
    "buy_signals[\"trade_percantage\"] = buy_signals.apply(lambda x: 0.5 if x[\"asset\"] == \"ethereum\" else 0.8, axis=1)\n",
    "buy_signals[\"decision_delay\"] = datetime.timedelta(days=2)\n",
    "\n",
    "sell_signals_1 = pd.DataFrame({\"dt\": [\"2021-02-05\", \"2021-03-15\"], \"asset\": [\"ethereum\", \"uniswap\"]})\n",
    "\n",
    "sell_signals_2 = pd.DataFrame({\"dt\": [\"2021-03-01\"], \"asset\": [\"uniswap\"]})"
   ]
  },
  {
   "cell_type": "code",
   "execution_count": 7,
   "metadata": {},
   "outputs": [
    {
     "data": {
      "text/html": [
       "<div>\n",
       "<style scoped>\n",
       "    .dataframe tbody tr th:only-of-type {\n",
       "        vertical-align: middle;\n",
       "    }\n",
       "\n",
       "    .dataframe tbody tr th {\n",
       "        vertical-align: top;\n",
       "    }\n",
       "\n",
       "    .dataframe thead th {\n",
       "        text-align: right;\n",
       "    }\n",
       "</style>\n",
       "<table border=\"1\" class=\"dataframe\">\n",
       "  <thead>\n",
       "    <tr style=\"text-align: right;\">\n",
       "      <th></th>\n",
       "      <th>dt</th>\n",
       "      <th>signal</th>\n",
       "      <th>asset</th>\n",
       "      <th>trade_percantage</th>\n",
       "      <th>decision_delay</th>\n",
       "    </tr>\n",
       "  </thead>\n",
       "  <tbody>\n",
       "    <tr>\n",
       "      <th>2021-01-07</th>\n",
       "      <td>2021-01-05</td>\n",
       "      <td>buy</td>\n",
       "      <td>ethereum</td>\n",
       "      <td>0.5</td>\n",
       "      <td>2 days</td>\n",
       "    </tr>\n",
       "    <tr>\n",
       "      <th>2021-01-07</th>\n",
       "      <td>2021-01-05</td>\n",
       "      <td>buy</td>\n",
       "      <td>uniswap</td>\n",
       "      <td>0.8</td>\n",
       "      <td>2 days</td>\n",
       "    </tr>\n",
       "    <tr>\n",
       "      <th>2021-02-12</th>\n",
       "      <td>2021-02-10</td>\n",
       "      <td>buy</td>\n",
       "      <td>ethereum</td>\n",
       "      <td>0.5</td>\n",
       "      <td>2 days</td>\n",
       "    </tr>\n",
       "    <tr>\n",
       "      <th>2021-03-12</th>\n",
       "      <td>2021-03-10</td>\n",
       "      <td>buy</td>\n",
       "      <td>uniswap</td>\n",
       "      <td>0.8</td>\n",
       "      <td>2 days</td>\n",
       "    </tr>\n",
       "  </tbody>\n",
       "</table>\n",
       "</div>"
      ],
      "text/plain": [
       "                   dt signal     asset  trade_percantage decision_delay\n",
       "2021-01-07 2021-01-05    buy  ethereum               0.5         2 days\n",
       "2021-01-07 2021-01-05    buy   uniswap               0.8         2 days\n",
       "2021-02-12 2021-02-10    buy  ethereum               0.5         2 days\n",
       "2021-03-12 2021-03-10    buy   uniswap               0.8         2 days"
      ]
     },
     "execution_count": 7,
     "metadata": {},
     "output_type": "execute_result"
    }
   ],
   "source": [
    "# Add buy signals to the index\n",
    "index.signals.add(\"b\", buy_signals, signal_name=\"buy\")\n",
    "index.signals.buy_signals"
   ]
  },
  {
   "cell_type": "code",
   "execution_count": 8,
   "metadata": {},
   "outputs": [
    {
     "data": {
      "text/html": [
       "<div>\n",
       "<style scoped>\n",
       "    .dataframe tbody tr th:only-of-type {\n",
       "        vertical-align: middle;\n",
       "    }\n",
       "\n",
       "    .dataframe tbody tr th {\n",
       "        vertical-align: top;\n",
       "    }\n",
       "\n",
       "    .dataframe thead th {\n",
       "        text-align: right;\n",
       "    }\n",
       "</style>\n",
       "<table border=\"1\" class=\"dataframe\">\n",
       "  <thead>\n",
       "    <tr style=\"text-align: right;\">\n",
       "      <th></th>\n",
       "      <th>dt</th>\n",
       "      <th>signal</th>\n",
       "      <th>asset</th>\n",
       "      <th>trade_percantage</th>\n",
       "      <th>decision_delay</th>\n",
       "    </tr>\n",
       "  </thead>\n",
       "  <tbody>\n",
       "    <tr>\n",
       "      <th>2021-02-05</th>\n",
       "      <td>2021-02-05</td>\n",
       "      <td>sell_1</td>\n",
       "      <td>ethereum</td>\n",
       "      <td>1</td>\n",
       "      <td>0 days</td>\n",
       "    </tr>\n",
       "    <tr>\n",
       "      <th>2021-03-15</th>\n",
       "      <td>2021-03-15</td>\n",
       "      <td>sell_1</td>\n",
       "      <td>uniswap</td>\n",
       "      <td>1</td>\n",
       "      <td>0 days</td>\n",
       "    </tr>\n",
       "    <tr>\n",
       "      <th>2021-03-01</th>\n",
       "      <td>2021-03-01</td>\n",
       "      <td>sell_2</td>\n",
       "      <td>uniswap</td>\n",
       "      <td>1</td>\n",
       "      <td>0 days</td>\n",
       "    </tr>\n",
       "  </tbody>\n",
       "</table>\n",
       "</div>"
      ],
      "text/plain": [
       "                   dt  signal     asset trade_percantage decision_delay\n",
       "2021-02-05 2021-02-05  sell_1  ethereum                1         0 days\n",
       "2021-03-15 2021-03-15  sell_1   uniswap                1         0 days\n",
       "2021-03-01 2021-03-01  sell_2   uniswap                1         0 days"
      ]
     },
     "execution_count": 8,
     "metadata": {},
     "output_type": "execute_result"
    }
   ],
   "source": [
    "# Add sell signals to the index\n",
    "index.signals.add(\"s\", sell_signals_1, signal_name=\"sell_1\")\n",
    "index.signals.add(\"s\", sell_signals_2, signal_name=\"sell_2\")\n",
    "index.signals.sell_signals"
   ]
  },
  {
   "cell_type": "code",
   "execution_count": 9,
   "metadata": {},
   "outputs": [
    {
     "data": {
      "text/html": [
       "<div>\n",
       "<style scoped>\n",
       "    .dataframe tbody tr th:only-of-type {\n",
       "        vertical-align: middle;\n",
       "    }\n",
       "\n",
       "    .dataframe tbody tr th {\n",
       "        vertical-align: top;\n",
       "    }\n",
       "\n",
       "    .dataframe thead th {\n",
       "        text-align: right;\n",
       "    }\n",
       "</style>\n",
       "<table border=\"1\" class=\"dataframe\">\n",
       "  <thead>\n",
       "    <tr style=\"text-align: right;\">\n",
       "      <th></th>\n",
       "      <th>dt</th>\n",
       "      <th>signal</th>\n",
       "      <th>asset</th>\n",
       "      <th>trade_percantage</th>\n",
       "      <th>decision_delay</th>\n",
       "    </tr>\n",
       "  </thead>\n",
       "  <tbody>\n",
       "    <tr>\n",
       "      <th>2021-02-05</th>\n",
       "      <td>2021-02-05</td>\n",
       "      <td>sell_1</td>\n",
       "      <td>ethereum</td>\n",
       "      <td>1</td>\n",
       "      <td>0 days</td>\n",
       "    </tr>\n",
       "    <tr>\n",
       "      <th>2021-03-15</th>\n",
       "      <td>2021-03-15</td>\n",
       "      <td>sell_1</td>\n",
       "      <td>uniswap</td>\n",
       "      <td>1</td>\n",
       "      <td>0 days</td>\n",
       "    </tr>\n",
       "  </tbody>\n",
       "</table>\n",
       "</div>"
      ],
      "text/plain": [
       "                   dt  signal     asset trade_percantage decision_delay\n",
       "2021-02-05 2021-02-05  sell_1  ethereum                1         0 days\n",
       "2021-03-15 2021-03-15  sell_1   uniswap                1         0 days"
      ]
     },
     "execution_count": 9,
     "metadata": {},
     "output_type": "execute_result"
    }
   ],
   "source": [
    "# Remove part of the sell signals\n",
    "index.signals.remove(\"s\", signal_name=\"sell_2\")\n",
    "index.signals.sell_signals"
   ]
  },
  {
   "cell_type": "code",
   "execution_count": 10,
   "metadata": {},
   "outputs": [],
   "source": [
    "# Define rebalance signals df\n",
    "rebalance_signals = pd.DataFrame({\"dt\": [\"2021-02-01\", \"2021-03-01\"]})"
   ]
  },
  {
   "cell_type": "code",
   "execution_count": 11,
   "metadata": {},
   "outputs": [
    {
     "data": {
      "text/html": [
       "<div>\n",
       "<style scoped>\n",
       "    .dataframe tbody tr th:only-of-type {\n",
       "        vertical-align: middle;\n",
       "    }\n",
       "\n",
       "    .dataframe tbody tr th {\n",
       "        vertical-align: top;\n",
       "    }\n",
       "\n",
       "    .dataframe thead th {\n",
       "        text-align: right;\n",
       "    }\n",
       "</style>\n",
       "<table border=\"1\" class=\"dataframe\">\n",
       "  <thead>\n",
       "    <tr style=\"text-align: right;\">\n",
       "      <th></th>\n",
       "      <th>dt</th>\n",
       "      <th>signal</th>\n",
       "      <th>asset</th>\n",
       "      <th>trade_percantage</th>\n",
       "      <th>decision_delay</th>\n",
       "    </tr>\n",
       "  </thead>\n",
       "  <tbody>\n",
       "    <tr>\n",
       "      <th>2021-02-01</th>\n",
       "      <td>2021-02-01</td>\n",
       "      <td>rebalance</td>\n",
       "      <td>NaN</td>\n",
       "      <td>1</td>\n",
       "      <td>0 days</td>\n",
       "    </tr>\n",
       "    <tr>\n",
       "      <th>2021-03-01</th>\n",
       "      <td>2021-03-01</td>\n",
       "      <td>rebalance</td>\n",
       "      <td>NaN</td>\n",
       "      <td>1</td>\n",
       "      <td>0 days</td>\n",
       "    </tr>\n",
       "  </tbody>\n",
       "</table>\n",
       "</div>"
      ],
      "text/plain": [
       "                   dt     signal asset trade_percantage decision_delay\n",
       "2021-02-01 2021-02-01  rebalance   NaN                1         0 days\n",
       "2021-03-01 2021-03-01  rebalance   NaN                1         0 days"
      ]
     },
     "execution_count": 11,
     "metadata": {},
     "output_type": "execute_result"
    }
   ],
   "source": [
    "# Add rebalance signals\n",
    "index.signals.add(\"r\", rebalance_signals, signal_name=\"rebalance\")\n",
    "index.signals.rebalance_signals"
   ]
  },
  {
   "cell_type": "markdown",
   "metadata": {},
   "source": [
    "## Setting prices"
   ]
  },
  {
   "cell_type": "code",
   "execution_count": 12,
   "metadata": {},
   "outputs": [],
   "source": [
    "prices = pd.DataFrame(\n",
    "    list(itertools.product([\"2021-01-01\", \"2021-01-02\", \"2021-01-03\"], [\"ethereum\", \"dai\", \"uniswap\"])), columns=[\"dt\", \"asset\"]\n",
    ").set_index(\"dt\")\n",
    "prices[\"price\"] = [4000, 1, 100, 4100, 1, 90, 4200, 1, 110]"
   ]
  },
  {
   "cell_type": "code",
   "execution_count": 13,
   "metadata": {},
   "outputs": [],
   "source": [
    "index.prices.set(prices)"
   ]
  },
  {
   "cell_type": "code",
   "execution_count": 14,
   "metadata": {},
   "outputs": [
    {
     "data": {
      "text/html": [
       "<div>\n",
       "<style scoped>\n",
       "    .dataframe tbody tr th:only-of-type {\n",
       "        vertical-align: middle;\n",
       "    }\n",
       "\n",
       "    .dataframe tbody tr th {\n",
       "        vertical-align: top;\n",
       "    }\n",
       "\n",
       "    .dataframe thead th {\n",
       "        text-align: right;\n",
       "    }\n",
       "</style>\n",
       "<table border=\"1\" class=\"dataframe\">\n",
       "  <thead>\n",
       "    <tr style=\"text-align: right;\">\n",
       "      <th></th>\n",
       "      <th>asset</th>\n",
       "      <th>price</th>\n",
       "      <th>price_change</th>\n",
       "    </tr>\n",
       "    <tr>\n",
       "      <th>dt</th>\n",
       "      <th></th>\n",
       "      <th></th>\n",
       "      <th></th>\n",
       "    </tr>\n",
       "  </thead>\n",
       "  <tbody>\n",
       "    <tr>\n",
       "      <th>2021-01-01</th>\n",
       "      <td>dai</td>\n",
       "      <td>1</td>\n",
       "      <td>1.0</td>\n",
       "    </tr>\n",
       "    <tr>\n",
       "      <th>2021-01-01</th>\n",
       "      <td>ethereum</td>\n",
       "      <td>4000</td>\n",
       "      <td>1.0</td>\n",
       "    </tr>\n",
       "    <tr>\n",
       "      <th>2021-01-01</th>\n",
       "      <td>uniswap</td>\n",
       "      <td>100</td>\n",
       "      <td>1.0</td>\n",
       "    </tr>\n",
       "  </tbody>\n",
       "</table>\n",
       "</div>"
      ],
      "text/plain": [
       "               asset  price  price_change\n",
       "dt                                       \n",
       "2021-01-01       dai      1           1.0\n",
       "2021-01-01  ethereum   4000           1.0\n",
       "2021-01-01   uniswap    100           1.0"
      ]
     },
     "execution_count": 14,
     "metadata": {},
     "output_type": "execute_result"
    }
   ],
   "source": [
    "index.prices.prices.loc[[\"2021-01-01\"]]"
   ]
  },
  {
   "cell_type": "markdown",
   "metadata": {},
   "source": [
    "## Adding periodic rebalance"
   ]
  },
  {
   "cell_type": "code",
   "execution_count": 15,
   "metadata": {},
   "outputs": [],
   "source": [
    "# add default monthly rebalancing\n",
    "index.add_periodic_rebalance(\"0 0 1 * *\", skip_rebalance_on_init=False)"
   ]
  },
  {
   "cell_type": "markdown",
   "metadata": {},
   "source": [
    "## Building portfolio"
   ]
  },
  {
   "cell_type": "code",
   "execution_count": 16,
   "metadata": {},
   "outputs": [],
   "source": [
    "index.build_portfolio(\"2021-01-01\", \"2021-01-03\")"
   ]
  },
  {
   "cell_type": "code",
   "execution_count": 17,
   "metadata": {},
   "outputs": [
    {
     "data": {
      "text/html": [
       "<div>\n",
       "<style scoped>\n",
       "    .dataframe tbody tr th:only-of-type {\n",
       "        vertical-align: middle;\n",
       "    }\n",
       "\n",
       "    .dataframe tbody tr th {\n",
       "        vertical-align: top;\n",
       "    }\n",
       "\n",
       "    .dataframe thead th {\n",
       "        text-align: right;\n",
       "    }\n",
       "</style>\n",
       "<table border=\"1\" class=\"dataframe\">\n",
       "  <thead>\n",
       "    <tr style=\"text-align: right;\">\n",
       "      <th></th>\n",
       "      <th>asset</th>\n",
       "      <th>share</th>\n",
       "    </tr>\n",
       "    <tr>\n",
       "      <th>dt</th>\n",
       "      <th></th>\n",
       "      <th></th>\n",
       "    </tr>\n",
       "  </thead>\n",
       "  <tbody>\n",
       "    <tr>\n",
       "      <th>2021-01-01</th>\n",
       "      <td>dai</td>\n",
       "      <td>1.0</td>\n",
       "    </tr>\n",
       "    <tr>\n",
       "      <th>2021-01-02</th>\n",
       "      <td>dai</td>\n",
       "      <td>1.0</td>\n",
       "    </tr>\n",
       "    <tr>\n",
       "      <th>2021-01-03</th>\n",
       "      <td>dai</td>\n",
       "      <td>1.0</td>\n",
       "    </tr>\n",
       "  </tbody>\n",
       "</table>\n",
       "</div>"
      ],
      "text/plain": [
       "           asset  share\n",
       "dt                     \n",
       "2021-01-01   dai    1.0\n",
       "2021-01-02   dai    1.0\n",
       "2021-01-03   dai    1.0"
      ]
     },
     "execution_count": 17,
     "metadata": {},
     "output_type": "execute_result"
    }
   ],
   "source": [
    "index.portfolio"
   ]
  },
  {
   "cell_type": "code",
   "execution_count": null,
   "metadata": {},
   "outputs": [],
   "source": []
  }
 ],
 "metadata": {
  "interpreter": {
   "hash": "005dc622a56a00d19581126fadf09474d2460dd013f62b1cb5edfcd6d5257092"
  },
  "kernelspec": {
   "display_name": "Python 3.6.12 64-bit ('py36': conda)",
   "name": "python3"
  },
  "language_info": {
   "codemirror_mode": {
    "name": "ipython",
    "version": 3
   },
   "file_extension": ".py",
   "mimetype": "text/x-python",
   "name": "python",
   "nbconvert_exporter": "python",
   "pygments_lexer": "ipython3",
   "version": "3.6.12"
  }
 },
 "nbformat": 4,
 "nbformat_minor": 4
}
